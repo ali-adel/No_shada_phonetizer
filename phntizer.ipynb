{
  "cells": [
    {
      "cell_type": "markdown",
      "metadata": {},
      "source": [
        "# the custom Phonetiser"
      ]
    },
    {
      "cell_type": "code",
      "execution_count": 2,
      "metadata": {},
      "outputs": [],
      "source": [
        "from dr_yseer_phonetizer.phonetiser.phonetise_Arabic import phonetise"
      ]
    },
    {
      "cell_type": "code",
      "execution_count": 3,
      "metadata": {
        "id": "P4TfmMu6-IOO",
        "outputId": "2e251ef9-690d-479d-9675-18d6c85b2f4a"
      },
      "outputs": [
        {
          "name": "stdout",
          "output_type": "stream",
          "text": [
            "phoetising utterance\n",
            "bisomi All~ahi Alr~aHomaٰni Alr~aHiymi AloHamodu lil~ahi rab~ AlEAlmiyna Alr~aHomaٰni Alr~aHiymi maAliki yawomi Ald~iyni\n",
            "['b', 'i0', 's', 'm', 'i0']\n",
            "['ll', 'a', 'h', 'i0']\n",
            "['rr', 'a', 'H', 'm', 'a', 'n', 'i0']\n",
            "['rr', 'a', 'H', 'ii0', 'm', 'i0']\n",
            "['l', 'H', 'a', 'm', 'd', 'u0']\n",
            "['l', 'i0', 'll', 'a', 'h', 'i0']\n",
            "['r', 'a', 'bb']\n",
            "skipped\n",
            "['r', 'a', 'bb']\n",
            "['l', 'E', 'aa', 'l', 'm', 'ii0', 'n', 'a']\n",
            "['rr', 'a', 'H', 'm', 'a', 'n', 'i0']\n",
            "['rr', 'a', 'H', 'ii0', 'm', 'i0']\n",
            "['m', 'aa', 'l', 'i0', 'k', 'i0']\n",
            "['y', 'a', 'w', 'm', 'i0']\n",
            "['dd', 'ii0', 'n', 'i0']\n",
            "utterancesPronuncationsWithBoundaries :  [\"bi0'smi0 llah'i0 rra'Hmani0 rraHii0'mi0 lHa'mdu0 li0'llahi0 rabb lEaalmii0'na rra'Hmani0 rraHii0'mi0 maa'li0ki0 ya'wmi0 ddii0'ni0 sil\"] \n",
            "\n",
            "-----------------------------------------------------------------------------------\n",
            "utterancesPronuncations :  ['b i0 s m i0 ll a h i0 rr a H m a n i0 rr a H ii0 m i0 l H a m d u0 l i0 ll a h i0 r a bb l E aa l m ii0 n a rr a H m a n i0 rr a H ii0 m i0 m aa l i0 k i0 y a w m i0 dd ii0 n i0 sil'] \n",
            "\n",
            "result :  bismi b i0 s m i0\n",
            "ll~ahi ll a h i0\n",
            "lr~aHmaٰni rr a H m a n i0\n",
            "lr~aHiymi rr a H ii0 m i0\n",
            "lHamdu l H a m d u0\n",
            "lil~ahi l i0 ll a h i0\n",
            "rab~ r a bb\n",
            "lEAlmiyna l E aa l m ii0 n a\n",
            "lr~aHmaٰni rr a H m a n i0\n",
            "lr~aHiymi rr a H ii0 m i0\n",
            "mAliki m aa l i0 k i0\n",
            "yawmi y a w m i0\n",
            "ld~iyni dd ii0 n i0\n",
            " \n",
            "\n"
          ]
        }
      ],
      "source": [
        "Arabic_text = \"بِسْمِ اللَّهِ الرَّحْمَٰنِ الرَّحِيمِ الْحَمْدُ لِلَّهِ رَبّ العالمِينَ الرَّحْمَٰنِ الرَّحِيمِ مَالِكِ يَوْمِ الدِّينِ\"\n",
        "utterancesPronuncationsWithBoundaries, utterancesPronuncations, result = phonetise(Arabic_text)\n",
        "print(\"utterancesPronuncationsWithBoundaries : \",utterancesPronuncationsWithBoundaries,'\\n')\n",
        "print(\"-----------------------------------------------------------------------------------\")\n",
        "\n",
        "print(\"utterancesPronuncations : \",utterancesPronuncations,'\\n')\n",
        "(\"-----------------------------------------------------------------------------------\")\n",
        "\n",
        "print(\"result : \",result,'\\n')\n",
        "\n"
      ]
    },
    {
      "cell_type": "markdown",
      "metadata": {},
      "source": [
        "# No Stress numbers phonetiser"
      ]
    },
    {
      "cell_type": "markdown",
      "metadata": {},
      "source": [
        "# Make the required dataset structure "
      ]
    },
    {
      "cell_type": "code",
      "execution_count": null,
      "metadata": {},
      "outputs": [
        {
          "name": "stdout",
          "output_type": "stream",
          "text": [
            "CSV file 'dr_yseer_phonetizer/arabic-speech-corpus\\dataset.csv' created successfully!\n"
          ]
        }
      ],
      "source": [
        "import os\n",
        "import csv\n",
        "\n",
        "# Define the correct paths\n",
        "dataset_path = \"dr_yseer_phonetizer/arabic-speech-corpus\"  # Adjusted path\n",
        "lab_folder = os.path.join(dataset_path, \"lab\")\n",
        "wav_folder = os.path.join(dataset_path, \"wav\")\n",
        "output_csv = os.path.join(dataset_path, \"dataset.csv\")\n",
        "\n",
        "# Ensure the directories exist\n",
        "if not os.path.exists(lab_folder) or not os.path.exists(wav_folder):\n",
        "    print(\"Error: Lab or WAV folder not found!\")\n",
        "    exit()\n",
        "\n",
        "# Get all .lab files\n",
        "lab_files = [f for f in os.listdir(lab_folder) if f.endswith(\".lab\")]\n",
        "\n",
        "# Open CSV file for writing\n",
        "with open(output_csv, \"w\", encoding=\"utf-8\", newline=\"\") as csv_file:\n",
        "    writer = csv.writer(csv_file)\n",
        "    \n",
        "    # Process each .lab file\n",
        "    for lab_file in lab_files:\n",
        "        file_id = os.path.splitext(lab_file)[0]  # Remove the .lab extension\n",
        "        \n",
        "        # Construct WAV file path\n",
        "        wav_file = os.path.join(wav_folder, file_id + \".wav\")\n",
        "        \n",
        "        # Read the transcript\n",
        "        lab_path = os.path.join(lab_folder, lab_file)\n",
        "        with open(lab_path, \"r\", encoding=\"utf-8\") as f:\n",
        "            transcript = f.read().strip()\n",
        "        \n",
        "        # Write to CSV (including files without WAVs)\n",
        "        writer.writerow([file_id, transcript])\n",
        "\n",
        "print(f\"CSV file '{output_csv}' created successfully!\")\n"
      ]
    },
    {
      "cell_type": "markdown",
      "metadata": {},
      "source": [
        "# script Arguments "
      ]
    },
    {
      "cell_type": "markdown",
      "metadata": {},
      "source": [
        "1 . dataset file path that have the [file wave name, text transcript]\n",
        "\n",
        "2 . the wav folder path "
      ]
    },
    {
      "cell_type": "markdown",
      "metadata": {},
      "source": [
        "# Script output"
      ]
    },
    {
      "cell_type": "markdown",
      "metadata": {},
      "source": [
        "- it will create a file same as the file name you give [(first arg) that have the wave file name and the transcript and it will contain]\n",
        "    - audio_filepath\n",
        "    - text\n",
        "    - duration \n",
        "    - utf8_text"
      ]
    },
    {
      "cell_type": "markdown",
      "metadata": {},
      "source": [
        "# to Run the script  \n",
        "\n",
        "python \"C:\\Users\\Legion\\Desktop\\Gp_rescource\\no_steress_phonetizer\\dr_yseer_phonetizer\\gen_manifest.py\" \"C:\\Users\\Legion\\Desktop\\Gp_rescource\\no_steress_phonetizer\\dr_yseer_phonetizer\\arabic-speech-corpus\\dataset\" \"C:\\Users\\Legion\\Desktop\\Gp_rescource\\no_steress_phonetizer\\dr_yseer_phonetizer\\arabic-speech-corpus\\wav\""
      ]
    },
    {
      "cell_type": "markdown",
      "metadata": {},
      "source": [
        "- Script Path : \"C:\\Users\\Legion\\Desktop\\Gp_rescource\\no_steress_phonetizer\\dr_yseer_phonetizer\\gen_manifest.py\" \n",
        "- dataset file path : \"C:\\Users\\Legion\\Desktop\\Gp_rescource\\no_steress_phonetizer\\dr_yseer_phonetizer\\arabic-speech-corpus\\dataset\" \n",
        "- wav folder path : \"C:\\Users\\Legion\\Desktop\\Gp_rescource\\no_steress_phonetizer\\dr_yseer_phonetizer\\arabic-speech-corpus\\wav\""
      ]
    }
  ],
  "metadata": {
    "colab": {
      "provenance": []
    },
    "kernelspec": {
      "display_name": "Python 3",
      "language": "python",
      "name": "python3"
    },
    "language_info": {
      "codemirror_mode": {
        "name": "ipython",
        "version": 3
      },
      "file_extension": ".py",
      "mimetype": "text/x-python",
      "name": "python",
      "nbconvert_exporter": "python",
      "pygments_lexer": "ipython3",
      "version": "3.12.5"
    }
  },
  "nbformat": 4,
  "nbformat_minor": 0
}
